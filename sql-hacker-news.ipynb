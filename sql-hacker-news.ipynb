{
 "cells": [
  {
   "cell_type": "markdown",
   "id": "3b7fdc42",
   "metadata": {
    "papermill": {
     "duration": 0.008399,
     "end_time": "2022-12-29T15:18:22.950325",
     "exception": false,
     "start_time": "2022-12-29T15:18:22.941926",
     "status": "completed"
    },
    "tags": []
   },
   "source": [
    "# Introduction\n",
    "In this notebook, I have done an exporatory data analysis (EDA) on BigQuery's Hacker News dataset using SQL. \n",
    "\n",
    "Here a client object is created to connect to the bigquery database and retrive information and run the SQL query. \n",
    "\n",
    "The \"hacker_news\" dataset is contained in BigQuery's public project. Let's jump into it:"
   ]
  },
  {
   "cell_type": "markdown",
   "id": "c67c7f8b",
   "metadata": {
    "papermill": {
     "duration": 0.006931,
     "end_time": "2022-12-29T15:18:22.964722",
     "exception": false,
     "start_time": "2022-12-29T15:18:22.957791",
     "status": "completed"
    },
    "tags": []
   },
   "source": [
    "## Importing the libraries "
   ]
  },
  {
   "cell_type": "code",
   "execution_count": 1,
   "id": "6ed74d2e",
   "metadata": {
    "execution": {
     "iopub.execute_input": "2022-12-29T15:18:22.981702Z",
     "iopub.status.busy": "2022-12-29T15:18:22.980690Z",
     "iopub.status.idle": "2022-12-29T15:18:23.983114Z",
     "shell.execute_reply": "2022-12-29T15:18:23.981874Z"
    },
    "papermill": {
     "duration": 1.014532,
     "end_time": "2022-12-29T15:18:23.986237",
     "exception": false,
     "start_time": "2022-12-29T15:18:22.971705",
     "status": "completed"
    },
    "tags": []
   },
   "outputs": [],
   "source": [
    "import numpy as np \n",
    "import pandas as pd \n",
    "from google.cloud import bigquery\n",
    "from matplotlib import pyplot as plt\n",
    "import seaborn as sns"
   ]
  },
  {
   "cell_type": "code",
   "execution_count": 2,
   "id": "9aaa8b15",
   "metadata": {
    "execution": {
     "iopub.execute_input": "2022-12-29T15:18:24.003097Z",
     "iopub.status.busy": "2022-12-29T15:18:24.002459Z",
     "iopub.status.idle": "2022-12-29T15:18:24.008418Z",
     "shell.execute_reply": "2022-12-29T15:18:24.007274Z"
    },
    "papermill": {
     "duration": 0.017459,
     "end_time": "2022-12-29T15:18:24.011278",
     "exception": false,
     "start_time": "2022-12-29T15:18:23.993819",
     "status": "completed"
    },
    "tags": []
   },
   "outputs": [
    {
     "name": "stdout",
     "output_type": "stream",
     "text": [
      "Using Kaggle's public dataset BigQuery integration.\n"
     ]
    }
   ],
   "source": [
    "# Create a client object\n",
    "client = bigquery.Client()"
   ]
  },
  {
   "cell_type": "code",
   "execution_count": 3,
   "id": "f8f3db50",
   "metadata": {
    "execution": {
     "iopub.execute_input": "2022-12-29T15:18:24.028480Z",
     "iopub.status.busy": "2022-12-29T15:18:24.027858Z",
     "iopub.status.idle": "2022-12-29T15:18:24.536203Z",
     "shell.execute_reply": "2022-12-29T15:18:24.534922Z"
    },
    "papermill": {
     "duration": 0.520103,
     "end_time": "2022-12-29T15:18:24.539080",
     "exception": false,
     "start_time": "2022-12-29T15:18:24.018977",
     "status": "completed"
    },
    "tags": []
   },
   "outputs": [],
   "source": [
    "# Create a reference to the \"hacker news\" dataset\n",
    "dataset_ref = client.dataset(\"hacker_news\", project = 'bigquery-public-data')\n",
    "\n",
    "# API request\n",
    "dataset = client.get_dataset(dataset_ref)"
   ]
  },
  {
   "cell_type": "code",
   "execution_count": 4,
   "id": "9ac66e7f",
   "metadata": {
    "execution": {
     "iopub.execute_input": "2022-12-29T15:18:24.556904Z",
     "iopub.status.busy": "2022-12-29T15:18:24.556483Z",
     "iopub.status.idle": "2022-12-29T15:18:25.336272Z",
     "shell.execute_reply": "2022-12-29T15:18:25.334848Z"
    },
    "papermill": {
     "duration": 0.793288,
     "end_time": "2022-12-29T15:18:25.339641",
     "exception": false,
     "start_time": "2022-12-29T15:18:24.546353",
     "status": "completed"
    },
    "tags": []
   },
   "outputs": [
    {
     "name": "stdout",
     "output_type": "stream",
     "text": [
      "The 4 tables in this dataset are: \n",
      "\n",
      "comments\n",
      "full\n",
      "full_201510\n",
      "stories\n"
     ]
    }
   ],
   "source": [
    "# Lets see the tables in this dataset\n",
    "tables = list(client.list_tables(dataset))\n",
    "\n",
    "print(\"The {} tables in this dataset are: \\n\".format(len(tables)))\n",
    "\n",
    "for table in tables:\n",
    "      print(table.table_id)"
   ]
  },
  {
   "cell_type": "code",
   "execution_count": 5,
   "id": "0c333569",
   "metadata": {
    "execution": {
     "iopub.execute_input": "2022-12-29T15:18:25.357506Z",
     "iopub.status.busy": "2022-12-29T15:18:25.356476Z",
     "iopub.status.idle": "2022-12-29T15:18:25.909803Z",
     "shell.execute_reply": "2022-12-29T15:18:25.908602Z"
    },
    "papermill": {
     "duration": 0.564973,
     "end_time": "2022-12-29T15:18:25.912902",
     "exception": false,
     "start_time": "2022-12-29T15:18:25.347929",
     "status": "completed"
    },
    "tags": []
   },
   "outputs": [],
   "source": [
    "# Fetch the full table\n",
    "table_ref = dataset_ref.table('full')\n",
    "\n",
    "full_table = client.get_table(table_ref)"
   ]
  },
  {
   "cell_type": "code",
   "execution_count": 6,
   "id": "d4c4f91b",
   "metadata": {
    "execution": {
     "iopub.execute_input": "2022-12-29T15:18:25.930351Z",
     "iopub.status.busy": "2022-12-29T15:18:25.929708Z",
     "iopub.status.idle": "2022-12-29T15:18:25.939284Z",
     "shell.execute_reply": "2022-12-29T15:18:25.938082Z"
    },
    "papermill": {
     "duration": 0.021008,
     "end_time": "2022-12-29T15:18:25.941779",
     "exception": false,
     "start_time": "2022-12-29T15:18:25.920771",
     "status": "completed"
    },
    "tags": []
   },
   "outputs": [
    {
     "data": {
      "text/plain": [
       "[SchemaField('title', 'STRING', 'NULLABLE', 'Story title', (), None),\n",
       " SchemaField('url', 'STRING', 'NULLABLE', 'Story url', (), None),\n",
       " SchemaField('text', 'STRING', 'NULLABLE', 'Story or comment text', (), None),\n",
       " SchemaField('dead', 'BOOLEAN', 'NULLABLE', 'Is dead?', (), None),\n",
       " SchemaField('by', 'STRING', 'NULLABLE', \"The username of the item's author.\", (), None),\n",
       " SchemaField('score', 'INTEGER', 'NULLABLE', 'Story score', (), None),\n",
       " SchemaField('time', 'INTEGER', 'NULLABLE', 'Unix time', (), None),\n",
       " SchemaField('timestamp', 'TIMESTAMP', 'NULLABLE', 'Timestamp for the unix time', (), None),\n",
       " SchemaField('type', 'STRING', 'NULLABLE', 'Type of details (comment, comment_ranking, poll, story, job, pollopt)', (), None),\n",
       " SchemaField('id', 'INTEGER', 'NULLABLE', \"The item's unique id.\", (), None),\n",
       " SchemaField('parent', 'INTEGER', 'NULLABLE', 'Parent comment ID', (), None),\n",
       " SchemaField('descendants', 'INTEGER', 'NULLABLE', 'Number of story or poll descendants', (), None),\n",
       " SchemaField('ranking', 'INTEGER', 'NULLABLE', 'Comment ranking', (), None),\n",
       " SchemaField('deleted', 'BOOLEAN', 'NULLABLE', 'Is deleted?', (), None)]"
      ]
     },
     "execution_count": 6,
     "metadata": {},
     "output_type": "execute_result"
    }
   ],
   "source": [
    "# See the table schema or structure\n",
    "full_table.schema"
   ]
  },
  {
   "cell_type": "code",
   "execution_count": 7,
   "id": "642f7784",
   "metadata": {
    "execution": {
     "iopub.execute_input": "2022-12-29T15:18:25.958418Z",
     "iopub.status.busy": "2022-12-29T15:18:25.958016Z",
     "iopub.status.idle": "2022-12-29T15:18:26.887221Z",
     "shell.execute_reply": "2022-12-29T15:18:26.886055Z"
    },
    "papermill": {
     "duration": 0.940268,
     "end_time": "2022-12-29T15:18:26.889613",
     "exception": false,
     "start_time": "2022-12-29T15:18:25.949345",
     "status": "completed"
    },
    "tags": []
   },
   "outputs": [
    {
     "name": "stderr",
     "output_type": "stream",
     "text": [
      "/opt/conda/lib/python3.7/site-packages/ipykernel_launcher.py:2: UserWarning: Cannot use bqstorage_client if max_results is set, reverting to fetching data with the tabledata.list endpoint.\n",
      "  \n"
     ]
    },
    {
     "data": {
      "text/html": [
       "<div>\n",
       "<style scoped>\n",
       "    .dataframe tbody tr th:only-of-type {\n",
       "        vertical-align: middle;\n",
       "    }\n",
       "\n",
       "    .dataframe tbody tr th {\n",
       "        vertical-align: top;\n",
       "    }\n",
       "\n",
       "    .dataframe thead th {\n",
       "        text-align: right;\n",
       "    }\n",
       "</style>\n",
       "<table border=\"1\" class=\"dataframe\">\n",
       "  <thead>\n",
       "    <tr style=\"text-align: right;\">\n",
       "      <th></th>\n",
       "      <th>title</th>\n",
       "      <th>url</th>\n",
       "      <th>text</th>\n",
       "      <th>dead</th>\n",
       "      <th>by</th>\n",
       "      <th>score</th>\n",
       "      <th>time</th>\n",
       "      <th>timestamp</th>\n",
       "      <th>type</th>\n",
       "      <th>id</th>\n",
       "      <th>parent</th>\n",
       "      <th>descendants</th>\n",
       "      <th>ranking</th>\n",
       "      <th>deleted</th>\n",
       "    </tr>\n",
       "  </thead>\n",
       "  <tbody>\n",
       "    <tr>\n",
       "      <th>0</th>\n",
       "      <td>None</td>\n",
       "      <td>None</td>\n",
       "      <td>I would rather just have wired earbuds, period...</td>\n",
       "      <td>None</td>\n",
       "      <td>zeveb</td>\n",
       "      <td>NaN</td>\n",
       "      <td>1591717736</td>\n",
       "      <td>2020-06-09 15:48:56+00:00</td>\n",
       "      <td>comment</td>\n",
       "      <td>23467666</td>\n",
       "      <td>23456782</td>\n",
       "      <td>NaN</td>\n",
       "      <td>NaN</td>\n",
       "      <td>None</td>\n",
       "    </tr>\n",
       "    <tr>\n",
       "      <th>1</th>\n",
       "      <td>None</td>\n",
       "      <td>None</td>\n",
       "      <td>DNS?</td>\n",
       "      <td>None</td>\n",
       "      <td>nly</td>\n",
       "      <td>NaN</td>\n",
       "      <td>1572810465</td>\n",
       "      <td>2019-11-03 19:47:45+00:00</td>\n",
       "      <td>comment</td>\n",
       "      <td>21436112</td>\n",
       "      <td>21435130</td>\n",
       "      <td>NaN</td>\n",
       "      <td>NaN</td>\n",
       "      <td>None</td>\n",
       "    </tr>\n",
       "    <tr>\n",
       "      <th>2</th>\n",
       "      <td>None</td>\n",
       "      <td>None</td>\n",
       "      <td>These benchmarks seem pretty good.  Filterable...</td>\n",
       "      <td>None</td>\n",
       "      <td>mrkeen</td>\n",
       "      <td>NaN</td>\n",
       "      <td>1591717727</td>\n",
       "      <td>2020-06-09 15:48:47+00:00</td>\n",
       "      <td>comment</td>\n",
       "      <td>23467665</td>\n",
       "      <td>23467426</td>\n",
       "      <td>NaN</td>\n",
       "      <td>NaN</td>\n",
       "      <td>None</td>\n",
       "    </tr>\n",
       "    <tr>\n",
       "      <th>3</th>\n",
       "      <td>None</td>\n",
       "      <td>None</td>\n",
       "      <td>Oh really?&lt;p&gt;* Excel alone uses 86.1MB of priv...</td>\n",
       "      <td>None</td>\n",
       "      <td>oceanswave</td>\n",
       "      <td>NaN</td>\n",
       "      <td>1462987532</td>\n",
       "      <td>2016-05-11 17:25:32+00:00</td>\n",
       "      <td>comment</td>\n",
       "      <td>11677248</td>\n",
       "      <td>11676886</td>\n",
       "      <td>NaN</td>\n",
       "      <td>NaN</td>\n",
       "      <td>None</td>\n",
       "    </tr>\n",
       "    <tr>\n",
       "      <th>4</th>\n",
       "      <td>None</td>\n",
       "      <td>None</td>\n",
       "      <td>These systems are useless.  Of the many flaws:...</td>\n",
       "      <td>None</td>\n",
       "      <td>nyxxie</td>\n",
       "      <td>NaN</td>\n",
       "      <td>1572810473</td>\n",
       "      <td>2019-11-03 19:47:53+00:00</td>\n",
       "      <td>comment</td>\n",
       "      <td>21436113</td>\n",
       "      <td>21435025</td>\n",
       "      <td>NaN</td>\n",
       "      <td>NaN</td>\n",
       "      <td>None</td>\n",
       "    </tr>\n",
       "    <tr>\n",
       "      <th>5</th>\n",
       "      <td>None</td>\n",
       "      <td>None</td>\n",
       "      <td>&lt;i&gt;I don&amp;#x27;t worry about the server&lt;/i&gt; and...</td>\n",
       "      <td>None</td>\n",
       "      <td>dahfizz</td>\n",
       "      <td>NaN</td>\n",
       "      <td>1566231278</td>\n",
       "      <td>2019-08-19 16:14:38+00:00</td>\n",
       "      <td>comment</td>\n",
       "      <td>20739051</td>\n",
       "      <td>20738305</td>\n",
       "      <td>NaN</td>\n",
       "      <td>NaN</td>\n",
       "      <td>None</td>\n",
       "    </tr>\n",
       "    <tr>\n",
       "      <th>6</th>\n",
       "      <td>None</td>\n",
       "      <td>None</td>\n",
       "      <td>Why do you take it as a given that the Secreta...</td>\n",
       "      <td>None</td>\n",
       "      <td>chatmasta</td>\n",
       "      <td>NaN</td>\n",
       "      <td>1425350594</td>\n",
       "      <td>2015-03-03 02:43:14+00:00</td>\n",
       "      <td>comment</td>\n",
       "      <td>9135815</td>\n",
       "      <td>9135800</td>\n",
       "      <td>NaN</td>\n",
       "      <td>NaN</td>\n",
       "      <td>None</td>\n",
       "    </tr>\n",
       "    <tr>\n",
       "      <th>7</th>\n",
       "      <td>None</td>\n",
       "      <td>None</td>\n",
       "      <td>Let me know what you guys think so far and if ...</td>\n",
       "      <td>None</td>\n",
       "      <td>augustin1989</td>\n",
       "      <td>NaN</td>\n",
       "      <td>1394076499</td>\n",
       "      <td>2014-03-06 03:28:19+00:00</td>\n",
       "      <td>comment</td>\n",
       "      <td>7351690</td>\n",
       "      <td>7351684</td>\n",
       "      <td>NaN</td>\n",
       "      <td>NaN</td>\n",
       "      <td>None</td>\n",
       "    </tr>\n",
       "    <tr>\n",
       "      <th>8</th>\n",
       "      <td>None</td>\n",
       "      <td>None</td>\n",
       "      <td>I often feel that the main result of this priv...</td>\n",
       "      <td>None</td>\n",
       "      <td>jaynetics</td>\n",
       "      <td>NaN</td>\n",
       "      <td>1572810482</td>\n",
       "      <td>2019-11-03 19:48:02+00:00</td>\n",
       "      <td>comment</td>\n",
       "      <td>21436115</td>\n",
       "      <td>21435981</td>\n",
       "      <td>NaN</td>\n",
       "      <td>NaN</td>\n",
       "      <td>None</td>\n",
       "    </tr>\n",
       "    <tr>\n",
       "      <th>9</th>\n",
       "      <td>None</td>\n",
       "      <td>None</td>\n",
       "      <td>That is exactly why I generally prefer median-...</td>\n",
       "      <td>None</td>\n",
       "      <td>bugra</td>\n",
       "      <td>NaN</td>\n",
       "      <td>1393290376</td>\n",
       "      <td>2014-02-25 01:06:16+00:00</td>\n",
       "      <td>comment</td>\n",
       "      <td>7294506</td>\n",
       "      <td>7293801</td>\n",
       "      <td>NaN</td>\n",
       "      <td>NaN</td>\n",
       "      <td>None</td>\n",
       "    </tr>\n",
       "  </tbody>\n",
       "</table>\n",
       "</div>"
      ],
      "text/plain": [
       "  title   url                                               text  dead  \\\n",
       "0  None  None  I would rather just have wired earbuds, period...  None   \n",
       "1  None  None                                               DNS?  None   \n",
       "2  None  None  These benchmarks seem pretty good.  Filterable...  None   \n",
       "3  None  None  Oh really?<p>* Excel alone uses 86.1MB of priv...  None   \n",
       "4  None  None  These systems are useless.  Of the many flaws:...  None   \n",
       "5  None  None  <i>I don&#x27;t worry about the server</i> and...  None   \n",
       "6  None  None  Why do you take it as a given that the Secreta...  None   \n",
       "7  None  None  Let me know what you guys think so far and if ...  None   \n",
       "8  None  None  I often feel that the main result of this priv...  None   \n",
       "9  None  None  That is exactly why I generally prefer median-...  None   \n",
       "\n",
       "             by  score        time                 timestamp     type  \\\n",
       "0         zeveb    NaN  1591717736 2020-06-09 15:48:56+00:00  comment   \n",
       "1           nly    NaN  1572810465 2019-11-03 19:47:45+00:00  comment   \n",
       "2        mrkeen    NaN  1591717727 2020-06-09 15:48:47+00:00  comment   \n",
       "3    oceanswave    NaN  1462987532 2016-05-11 17:25:32+00:00  comment   \n",
       "4        nyxxie    NaN  1572810473 2019-11-03 19:47:53+00:00  comment   \n",
       "5       dahfizz    NaN  1566231278 2019-08-19 16:14:38+00:00  comment   \n",
       "6     chatmasta    NaN  1425350594 2015-03-03 02:43:14+00:00  comment   \n",
       "7  augustin1989    NaN  1394076499 2014-03-06 03:28:19+00:00  comment   \n",
       "8     jaynetics    NaN  1572810482 2019-11-03 19:48:02+00:00  comment   \n",
       "9         bugra    NaN  1393290376 2014-02-25 01:06:16+00:00  comment   \n",
       "\n",
       "         id    parent  descendants  ranking deleted  \n",
       "0  23467666  23456782          NaN      NaN    None  \n",
       "1  21436112  21435130          NaN      NaN    None  \n",
       "2  23467665  23467426          NaN      NaN    None  \n",
       "3  11677248  11676886          NaN      NaN    None  \n",
       "4  21436113  21435025          NaN      NaN    None  \n",
       "5  20739051  20738305          NaN      NaN    None  \n",
       "6   9135815   9135800          NaN      NaN    None  \n",
       "7   7351690   7351684          NaN      NaN    None  \n",
       "8  21436115  21435981          NaN      NaN    None  \n",
       "9   7294506   7293801          NaN      NaN    None  "
      ]
     },
     "execution_count": 7,
     "metadata": {},
     "output_type": "execute_result"
    }
   ],
   "source": [
    "# Lets have a look at the first 10 rows of the table\n",
    "client.list_rows(full_table, max_results = 10).to_dataframe()"
   ]
  },
  {
   "cell_type": "markdown",
   "id": "c805b179",
   "metadata": {
    "papermill": {
     "duration": 0.007772,
     "end_time": "2022-12-29T15:18:26.905626",
     "exception": false,
     "start_time": "2022-12-29T15:18:26.897854",
     "status": "completed"
    },
    "tags": []
   },
   "source": [
    "# Looking at the schema we have following basic questions:\n",
    "1. Count the content type (stories, comments etc)\n",
    "2. Number of story authors\n",
    "3. Average number of story per author\n",
    "4. Ten  Users/Authors With Most Stories\n",
    "5. Stories per year from the top 10 authors\n",
    "6. Authors with highest average score\n",
    "7. Which date records the most number of stories\n",
    "8. Stories with most number of comments on 12 Dec 2012"
   ]
  },
  {
   "cell_type": "markdown",
   "id": "0cdfc127",
   "metadata": {
    "papermill": {
     "duration": 0.007543,
     "end_time": "2022-12-29T15:18:26.921154",
     "exception": false,
     "start_time": "2022-12-29T15:18:26.913611",
     "status": "completed"
    },
    "tags": []
   },
   "source": [
    "# 1. Count the content type"
   ]
  },
  {
   "cell_type": "code",
   "execution_count": 8,
   "id": "085549a1",
   "metadata": {
    "execution": {
     "iopub.execute_input": "2022-12-29T15:18:26.938500Z",
     "iopub.status.busy": "2022-12-29T15:18:26.938085Z",
     "iopub.status.idle": "2022-12-29T15:18:28.295048Z",
     "shell.execute_reply": "2022-12-29T15:18:28.293735Z"
    },
    "papermill": {
     "duration": 1.369591,
     "end_time": "2022-12-29T15:18:28.298563",
     "exception": false,
     "start_time": "2022-12-29T15:18:26.928972",
     "status": "completed"
    },
    "tags": []
   },
   "outputs": [
    {
     "name": "stderr",
     "output_type": "stream",
     "text": [
      "/opt/conda/lib/python3.7/site-packages/google/cloud/bigquery/client.py:440: UserWarning: Cannot create BigQuery Storage client, the dependency google-cloud-bigquery-storage is not installed.\n",
      "  \"Cannot create BigQuery Storage client, the dependency \"\n"
     ]
    },
    {
     "name": "stdout",
     "output_type": "stream",
     "text": [
      "   Content  Num_content\n",
      "0  comment     28897394\n",
      "1    story      4691514\n",
      "2      job        15848\n",
      "3  pollopt        13843\n",
      "4     poll         2012\n"
     ]
    }
   ],
   "source": [
    "# Query to count content type\n",
    "query1 = \"\"\"\n",
    "    SELECT type as Content, count(*) as Num_content\n",
    "    FROM `bigquery-public-data.hacker_news.full` \n",
    "    GROUP BY type\n",
    "    ORDER BY Num_content DESC;\n",
    "\"\"\"\n",
    "\n",
    "# Set up the query\n",
    "query_job = client.query(query1)\n",
    "\n",
    "# API request - run the query, and return a pandas DataFrame\n",
    "Content_type = query_job.to_dataframe()\n",
    "print(Content_type)"
   ]
  },
  {
   "cell_type": "markdown",
   "id": "b98b6389",
   "metadata": {
    "papermill": {
     "duration": 0.011778,
     "end_time": "2022-12-29T15:18:28.322482",
     "exception": false,
     "start_time": "2022-12-29T15:18:28.310704",
     "status": "completed"
    },
    "tags": []
   },
   "source": [
    "# 2. Number of story authors"
   ]
  },
  {
   "cell_type": "code",
   "execution_count": 9,
   "id": "6d0de764",
   "metadata": {
    "execution": {
     "iopub.execute_input": "2022-12-29T15:18:28.342102Z",
     "iopub.status.busy": "2022-12-29T15:18:28.341695Z",
     "iopub.status.idle": "2022-12-29T15:18:29.693023Z",
     "shell.execute_reply": "2022-12-29T15:18:29.691563Z"
    },
    "papermill": {
     "duration": 1.36372,
     "end_time": "2022-12-29T15:18:29.695571",
     "exception": false,
     "start_time": "2022-12-29T15:18:28.331851",
     "status": "completed"
    },
    "tags": []
   },
   "outputs": [
    {
     "name": "stderr",
     "output_type": "stream",
     "text": [
      "/opt/conda/lib/python3.7/site-packages/google/cloud/bigquery/client.py:440: UserWarning: Cannot create BigQuery Storage client, the dependency google-cloud-bigquery-storage is not installed.\n",
      "  \"Cannot create BigQuery Storage client, the dependency \"\n"
     ]
    },
    {
     "name": "stdout",
     "output_type": "stream",
     "text": [
      "As of 20th Decmeber 2022, 453344 different authors have filed stories in Hacker News\n"
     ]
    }
   ],
   "source": [
    "# Number of story authors\n",
    "query2 = \"\"\"SELECT COUNT(DISTINCT(`by`)) AS Num_Story_Authors\n",
    "            FROM `bigquery-public-data.hacker_news.full` \n",
    "            WHERE type = 'story'\n",
    "            \"\"\"\n",
    "# Set up the query\n",
    "query_job = client.query(query2)\n",
    "\n",
    "# API request - run the query, and return a pandas DataFrame\n",
    "Story_author = query_job.to_dataframe()\n",
    "print(\"As of 20th Decmeber 2022, {} different authors have filed stories in Hacker News\".format(Story_author.Num_Story_Authors[0]))"
   ]
  },
  {
   "cell_type": "markdown",
   "id": "e4397f2a",
   "metadata": {
    "papermill": {
     "duration": 0.00809,
     "end_time": "2022-12-29T15:18:29.712246",
     "exception": false,
     "start_time": "2022-12-29T15:18:29.704156",
     "status": "completed"
    },
    "tags": []
   },
   "source": [
    "# 3. Average number of stories per authors"
   ]
  },
  {
   "cell_type": "code",
   "execution_count": 10,
   "id": "83b7f7b2",
   "metadata": {
    "execution": {
     "iopub.execute_input": "2022-12-29T15:18:29.731059Z",
     "iopub.status.busy": "2022-12-29T15:18:29.730202Z",
     "iopub.status.idle": "2022-12-29T15:18:31.141052Z",
     "shell.execute_reply": "2022-12-29T15:18:31.139394Z"
    },
    "papermill": {
     "duration": 1.422834,
     "end_time": "2022-12-29T15:18:31.143514",
     "exception": false,
     "start_time": "2022-12-29T15:18:29.720680",
     "status": "completed"
    },
    "tags": []
   },
   "outputs": [
    {
     "name": "stdout",
     "output_type": "stream",
     "text": [
      "On an average each author has filed 10 stories.\n"
     ]
    }
   ],
   "source": [
    "# Average number of stories per authors\n",
    "query3 = \"\"\"SELECT COUNT(*)/ COUNT(DISTINCT(`by`)) AS Avg_no_story_per_user\n",
    "            FROM `bigquery-public-data.hacker_news.full`\n",
    "            WHERE type = 'story'\n",
    "            \"\"\"\n",
    "# Set up the query\n",
    "query_job = client.query(query3)\n",
    "\n",
    "# API request - run the query, and return a pandas DataFrame\n",
    "Avg_stories= query_job.to_dataframe()\n",
    "print(\"On an average each author has filed 10 stories.\")"
   ]
  },
  {
   "cell_type": "markdown",
   "id": "8366b628",
   "metadata": {
    "papermill": {
     "duration": 0.008057,
     "end_time": "2022-12-29T15:18:31.160024",
     "exception": false,
     "start_time": "2022-12-29T15:18:31.151967",
     "status": "completed"
    },
    "tags": []
   },
   "source": [
    "# 4. Ten Users/Authors With Most Stories"
   ]
  },
  {
   "cell_type": "code",
   "execution_count": 11,
   "id": "c60e5bb3",
   "metadata": {
    "execution": {
     "iopub.execute_input": "2022-12-29T15:18:31.178909Z",
     "iopub.status.busy": "2022-12-29T15:18:31.177909Z",
     "iopub.status.idle": "2022-12-29T15:18:32.518414Z",
     "shell.execute_reply": "2022-12-29T15:18:32.517322Z"
    },
    "papermill": {
     "duration": 1.352624,
     "end_time": "2022-12-29T15:18:32.520949",
     "exception": false,
     "start_time": "2022-12-29T15:18:31.168325",
     "status": "completed"
    },
    "tags": []
   },
   "outputs": [
    {
     "data": {
      "text/html": [
       "<div>\n",
       "<style scoped>\n",
       "    .dataframe tbody tr th:only-of-type {\n",
       "        vertical-align: middle;\n",
       "    }\n",
       "\n",
       "    .dataframe tbody tr th {\n",
       "        vertical-align: top;\n",
       "    }\n",
       "\n",
       "    .dataframe thead th {\n",
       "        text-align: right;\n",
       "    }\n",
       "</style>\n",
       "<table border=\"1\" class=\"dataframe\">\n",
       "  <thead>\n",
       "    <tr style=\"text-align: right;\">\n",
       "      <th></th>\n",
       "      <th>Author</th>\n",
       "      <th>Num_stories</th>\n",
       "    </tr>\n",
       "  </thead>\n",
       "  <tbody>\n",
       "    <tr>\n",
       "      <th>0</th>\n",
       "      <td>rbanffy</td>\n",
       "      <td>26765</td>\n",
       "    </tr>\n",
       "    <tr>\n",
       "      <th>1</th>\n",
       "      <td>Tomte</td>\n",
       "      <td>20647</td>\n",
       "    </tr>\n",
       "    <tr>\n",
       "      <th>2</th>\n",
       "      <td>tosh</td>\n",
       "      <td>16081</td>\n",
       "    </tr>\n",
       "    <tr>\n",
       "      <th>3</th>\n",
       "      <td>pseudolus</td>\n",
       "      <td>14102</td>\n",
       "    </tr>\n",
       "    <tr>\n",
       "      <th>4</th>\n",
       "      <td>jonbaer</td>\n",
       "      <td>13384</td>\n",
       "    </tr>\n",
       "    <tr>\n",
       "      <th>5</th>\n",
       "      <td>ingve</td>\n",
       "      <td>12485</td>\n",
       "    </tr>\n",
       "    <tr>\n",
       "      <th>6</th>\n",
       "      <td>bookofjoe</td>\n",
       "      <td>9687</td>\n",
       "    </tr>\n",
       "    <tr>\n",
       "      <th>7</th>\n",
       "      <td>evo_9</td>\n",
       "      <td>9310</td>\n",
       "    </tr>\n",
       "    <tr>\n",
       "      <th>8</th>\n",
       "      <td>prostoalex</td>\n",
       "      <td>9149</td>\n",
       "    </tr>\n",
       "    <tr>\n",
       "      <th>9</th>\n",
       "      <td>mooreds</td>\n",
       "      <td>8913</td>\n",
       "    </tr>\n",
       "  </tbody>\n",
       "</table>\n",
       "</div>"
      ],
      "text/plain": [
       "       Author  Num_stories\n",
       "0     rbanffy        26765\n",
       "1       Tomte        20647\n",
       "2        tosh        16081\n",
       "3   pseudolus        14102\n",
       "4     jonbaer        13384\n",
       "5       ingve        12485\n",
       "6   bookofjoe         9687\n",
       "7       evo_9         9310\n",
       "8  prostoalex         9149\n",
       "9     mooreds         8913"
      ]
     },
     "execution_count": 11,
     "metadata": {},
     "output_type": "execute_result"
    }
   ],
   "source": [
    "# 10 Users/Authors With Most Stories\n",
    "query4 = \"\"\"SELECT `by` as Author, COUNT (*) as Num_stories \n",
    "    FROM `bigquery-public-data.hacker_news.full` \n",
    "    WHERE type = 'story' AND score IS NOT NULL\n",
    "    GROUP BY Author\n",
    "    ORDER BY Num_stories DESC\n",
    "    LIMIT 10\n",
    "\"\"\"\n",
    "# Set up the query\n",
    "query_job = client.query(query4)\n",
    "\n",
    "# API request - run the query, and return a pandas DataFrame\n",
    "Top_authors = query_job.to_dataframe()\n",
    "Top_authors"
   ]
  },
  {
   "cell_type": "code",
   "execution_count": 12,
   "id": "45e2250a",
   "metadata": {
    "execution": {
     "iopub.execute_input": "2022-12-29T15:18:32.541163Z",
     "iopub.status.busy": "2022-12-29T15:18:32.540191Z",
     "iopub.status.idle": "2022-12-29T15:18:32.864978Z",
     "shell.execute_reply": "2022-12-29T15:18:32.863742Z"
    },
    "papermill": {
     "duration": 0.338092,
     "end_time": "2022-12-29T15:18:32.867804",
     "exception": false,
     "start_time": "2022-12-29T15:18:32.529712",
     "status": "completed"
    },
    "tags": []
   },
   "outputs": [
    {
     "data": {
      "text/plain": [
       "Text(0.5, 0, 'Top Authors')"
      ]
     },
     "execution_count": 12,
     "metadata": {},
     "output_type": "execute_result"
    },
    {
     "data": {
      "image/png": "[encoded data removed]",
      "text/plain": [
       "<Figure size 864x360 with 1 Axes>"
      ]
     },
     "metadata": {
      "needs_background": "light"
     },
     "output_type": "display_data"
    }
   ],
   "source": [
    "# Lets plot it\n",
    "plt.figure(figsize=(12,5))\n",
    "plt.title('Ten user with most stories')\n",
    "sns.barplot(x = Top_authors.Author, y=Top_authors.Num_stories)\n",
    "plt.xlabel(\"Top Authors\")"
   ]
  },
  {
   "cell_type": "markdown",
   "id": "9d9cd6da",
   "metadata": {
    "papermill": {
     "duration": 0.009098,
     "end_time": "2022-12-29T15:18:32.886129",
     "exception": false,
     "start_time": "2022-12-29T15:18:32.877031",
     "status": "completed"
    },
    "tags": []
   },
   "source": [
    "# 5. Stories per year from the top 10 authors"
   ]
  },
  {
   "cell_type": "code",
   "execution_count": 13,
   "id": "7c85f895",
   "metadata": {
    "execution": {
     "iopub.execute_input": "2022-12-29T15:18:32.905899Z",
     "iopub.status.busy": "2022-12-29T15:18:32.905461Z",
     "iopub.status.idle": "2022-12-29T15:18:34.312866Z",
     "shell.execute_reply": "2022-12-29T15:18:34.311572Z"
    },
    "papermill": {
     "duration": 1.420275,
     "end_time": "2022-12-29T15:18:34.315439",
     "exception": false,
     "start_time": "2022-12-29T15:18:32.895164",
     "status": "completed"
    },
    "tags": []
   },
   "outputs": [
    {
     "name": "stderr",
     "output_type": "stream",
     "text": [
      "/opt/conda/lib/python3.7/site-packages/google/cloud/bigquery/client.py:440: UserWarning: Cannot create BigQuery Storage client, the dependency google-cloud-bigquery-storage is not installed.\n",
      "  \"Cannot create BigQuery Storage client, the dependency \"\n"
     ]
    },
    {
     "data": {
      "text/html": [
       "<div>\n",
       "<style scoped>\n",
       "    .dataframe tbody tr th:only-of-type {\n",
       "        vertical-align: middle;\n",
       "    }\n",
       "\n",
       "    .dataframe tbody tr th {\n",
       "        vertical-align: top;\n",
       "    }\n",
       "\n",
       "    .dataframe thead th {\n",
       "        text-align: right;\n",
       "    }\n",
       "</style>\n",
       "<table border=\"1\" class=\"dataframe\">\n",
       "  <thead>\n",
       "    <tr style=\"text-align: right;\">\n",
       "      <th></th>\n",
       "      <th>Year</th>\n",
       "      <th>Num_stories</th>\n",
       "      <th>Author</th>\n",
       "    </tr>\n",
       "  </thead>\n",
       "  <tbody>\n",
       "    <tr>\n",
       "      <th>0</th>\n",
       "      <td>2008</td>\n",
       "      <td>230</td>\n",
       "      <td>rbanffy</td>\n",
       "    </tr>\n",
       "    <tr>\n",
       "      <th>1</th>\n",
       "      <td>2009</td>\n",
       "      <td>1304</td>\n",
       "      <td>rbanffy</td>\n",
       "    </tr>\n",
       "    <tr>\n",
       "      <th>2</th>\n",
       "      <td>2009</td>\n",
       "      <td>2</td>\n",
       "      <td>prostoalex</td>\n",
       "    </tr>\n",
       "    <tr>\n",
       "      <th>3</th>\n",
       "      <td>2010</td>\n",
       "      <td>2892</td>\n",
       "      <td>rbanffy</td>\n",
       "    </tr>\n",
       "    <tr>\n",
       "      <th>4</th>\n",
       "      <td>2010</td>\n",
       "      <td>5</td>\n",
       "      <td>prostoalex</td>\n",
       "    </tr>\n",
       "    <tr>\n",
       "      <th>...</th>\n",
       "      <td>...</td>\n",
       "      <td>...</td>\n",
       "      <td>...</td>\n",
       "    </tr>\n",
       "    <tr>\n",
       "      <th>100</th>\n",
       "      <td>2022</td>\n",
       "      <td>4958</td>\n",
       "      <td>Tomte</td>\n",
       "    </tr>\n",
       "    <tr>\n",
       "      <th>101</th>\n",
       "      <td>2022</td>\n",
       "      <td>2082</td>\n",
       "      <td>pseudolus</td>\n",
       "    </tr>\n",
       "    <tr>\n",
       "      <th>102</th>\n",
       "      <td>2022</td>\n",
       "      <td>290</td>\n",
       "      <td>jonbaer</td>\n",
       "    </tr>\n",
       "    <tr>\n",
       "      <th>103</th>\n",
       "      <td>2022</td>\n",
       "      <td>818</td>\n",
       "      <td>prostoalex</td>\n",
       "    </tr>\n",
       "    <tr>\n",
       "      <th>104</th>\n",
       "      <td>2022</td>\n",
       "      <td>2576</td>\n",
       "      <td>tosh</td>\n",
       "    </tr>\n",
       "  </tbody>\n",
       "</table>\n",
       "<p>105 rows × 3 columns</p>\n",
       "</div>"
      ],
      "text/plain": [
       "     Year  Num_stories      Author\n",
       "0    2008          230     rbanffy\n",
       "1    2009         1304     rbanffy\n",
       "2    2009            2  prostoalex\n",
       "3    2010         2892     rbanffy\n",
       "4    2010            5  prostoalex\n",
       "..    ...          ...         ...\n",
       "100  2022         4958       Tomte\n",
       "101  2022         2082   pseudolus\n",
       "102  2022          290     jonbaer\n",
       "103  2022          818  prostoalex\n",
       "104  2022         2576        tosh\n",
       "\n",
       "[105 rows x 3 columns]"
      ]
     },
     "execution_count": 13,
     "metadata": {},
     "output_type": "execute_result"
    }
   ],
   "source": [
    "# Stories per year from the top 10 authors\n",
    "query5 = \"\"\"WITH Top_authors AS(\n",
    "          SELECT `by` as Author, COUNT (*) as Num_stories, \n",
    "          FROM `bigquery-public-data.hacker_news.full` \n",
    "          WHERE type = 'story'\n",
    "          GROUP BY Author\n",
    "          ORDER BY Num_stories DESC\n",
    "          LIMIT 10\n",
    "        )\n",
    "        SELECT EXTRACT(YEAR from `timestamp`) as Year, COUNT(*) as Num_stories,\n",
    "        `by` as Author\n",
    "        FROM `bigquery-public-data.hacker_news.full` \n",
    "        WHERE `by` IN (\n",
    "          SELECT Author\n",
    "          FROM Top_authors)\n",
    "        GROUP BY Year, Author\n",
    "        ORDER BY Year\n",
    "\"\"\"\n",
    "\n",
    "# Set up the query\n",
    "query_job = client.query(query5)\n",
    "\n",
    "# API request - run the query, and return a pandas DataFrame\n",
    "Stories_per_year = query_job.to_dataframe()\n",
    "Stories_per_year"
   ]
  },
  {
   "cell_type": "markdown",
   "id": "3ea0cc31",
   "metadata": {
    "papermill": {
     "duration": 0.008943,
     "end_time": "2022-12-29T15:18:34.333880",
     "exception": false,
     "start_time": "2022-12-29T15:18:34.324937",
     "status": "completed"
    },
    "tags": []
   },
   "source": [
    "### This representation is quite inconvenient, lets tranform the data into wide format."
   ]
  },
  {
   "cell_type": "code",
   "execution_count": 14,
   "id": "7e0e77fa",
   "metadata": {
    "execution": {
     "iopub.execute_input": "2022-12-29T15:18:34.354681Z",
     "iopub.status.busy": "2022-12-29T15:18:34.353846Z",
     "iopub.status.idle": "2022-12-29T15:18:34.398004Z",
     "shell.execute_reply": "2022-12-29T15:18:34.396815Z"
    },
    "papermill": {
     "duration": 0.057317,
     "end_time": "2022-12-29T15:18:34.400472",
     "exception": false,
     "start_time": "2022-12-29T15:18:34.343155",
     "status": "completed"
    },
    "tags": []
   },
   "outputs": [
    {
     "data": {
      "text/html": [
       "<div>\n",
       "<style scoped>\n",
       "    .dataframe tbody tr th:only-of-type {\n",
       "        vertical-align: middle;\n",
       "    }\n",
       "\n",
       "    .dataframe tbody tr th {\n",
       "        vertical-align: top;\n",
       "    }\n",
       "\n",
       "    .dataframe thead th {\n",
       "        text-align: right;\n",
       "    }\n",
       "</style>\n",
       "<table border=\"1\" class=\"dataframe\">\n",
       "  <thead>\n",
       "    <tr style=\"text-align: right;\">\n",
       "      <th></th>\n",
       "      <th>Tomte</th>\n",
       "      <th>bookofjoe</th>\n",
       "      <th>evo_9</th>\n",
       "      <th>ingve</th>\n",
       "      <th>jonbaer</th>\n",
       "      <th>prostoalex</th>\n",
       "      <th>pseudolus</th>\n",
       "      <th>rbanffy</th>\n",
       "      <th>tosh</th>\n",
       "    </tr>\n",
       "    <tr>\n",
       "      <th>Year</th>\n",
       "      <th></th>\n",
       "      <th></th>\n",
       "      <th></th>\n",
       "      <th></th>\n",
       "      <th></th>\n",
       "      <th></th>\n",
       "      <th></th>\n",
       "      <th></th>\n",
       "      <th></th>\n",
       "    </tr>\n",
       "  </thead>\n",
       "  <tbody>\n",
       "    <tr>\n",
       "      <th>2008</th>\n",
       "      <td>NaN</td>\n",
       "      <td>NaN</td>\n",
       "      <td>NaN</td>\n",
       "      <td>NaN</td>\n",
       "      <td>NaN</td>\n",
       "      <td>NaN</td>\n",
       "      <td>NaN</td>\n",
       "      <td>230.0</td>\n",
       "      <td>NaN</td>\n",
       "    </tr>\n",
       "    <tr>\n",
       "      <th>2009</th>\n",
       "      <td>NaN</td>\n",
       "      <td>NaN</td>\n",
       "      <td>NaN</td>\n",
       "      <td>NaN</td>\n",
       "      <td>NaN</td>\n",
       "      <td>2.0</td>\n",
       "      <td>NaN</td>\n",
       "      <td>1304.0</td>\n",
       "      <td>NaN</td>\n",
       "    </tr>\n",
       "    <tr>\n",
       "      <th>2010</th>\n",
       "      <td>NaN</td>\n",
       "      <td>NaN</td>\n",
       "      <td>807.0</td>\n",
       "      <td>NaN</td>\n",
       "      <td>1.0</td>\n",
       "      <td>5.0</td>\n",
       "      <td>NaN</td>\n",
       "      <td>2892.0</td>\n",
       "      <td>4.0</td>\n",
       "    </tr>\n",
       "    <tr>\n",
       "      <th>2011</th>\n",
       "      <td>NaN</td>\n",
       "      <td>NaN</td>\n",
       "      <td>1828.0</td>\n",
       "      <td>NaN</td>\n",
       "      <td>1.0</td>\n",
       "      <td>118.0</td>\n",
       "      <td>NaN</td>\n",
       "      <td>2997.0</td>\n",
       "      <td>61.0</td>\n",
       "    </tr>\n",
       "    <tr>\n",
       "      <th>2012</th>\n",
       "      <td>1.0</td>\n",
       "      <td>NaN</td>\n",
       "      <td>2096.0</td>\n",
       "      <td>29.0</td>\n",
       "      <td>NaN</td>\n",
       "      <td>241.0</td>\n",
       "      <td>NaN</td>\n",
       "      <td>1723.0</td>\n",
       "      <td>45.0</td>\n",
       "    </tr>\n",
       "    <tr>\n",
       "      <th>2013</th>\n",
       "      <td>55.0</td>\n",
       "      <td>NaN</td>\n",
       "      <td>581.0</td>\n",
       "      <td>109.0</td>\n",
       "      <td>962.0</td>\n",
       "      <td>493.0</td>\n",
       "      <td>NaN</td>\n",
       "      <td>968.0</td>\n",
       "      <td>203.0</td>\n",
       "    </tr>\n",
       "    <tr>\n",
       "      <th>2014</th>\n",
       "      <td>330.0</td>\n",
       "      <td>NaN</td>\n",
       "      <td>435.0</td>\n",
       "      <td>281.0</td>\n",
       "      <td>472.0</td>\n",
       "      <td>1011.0</td>\n",
       "      <td>1.0</td>\n",
       "      <td>1020.0</td>\n",
       "      <td>415.0</td>\n",
       "    </tr>\n",
       "    <tr>\n",
       "      <th>2015</th>\n",
       "      <td>577.0</td>\n",
       "      <td>NaN</td>\n",
       "      <td>541.0</td>\n",
       "      <td>1323.0</td>\n",
       "      <td>1313.0</td>\n",
       "      <td>1860.0</td>\n",
       "      <td>1.0</td>\n",
       "      <td>750.0</td>\n",
       "      <td>430.0</td>\n",
       "    </tr>\n",
       "    <tr>\n",
       "      <th>2016</th>\n",
       "      <td>1694.0</td>\n",
       "      <td>2.0</td>\n",
       "      <td>535.0</td>\n",
       "      <td>2075.0</td>\n",
       "      <td>3108.0</td>\n",
       "      <td>2110.0</td>\n",
       "      <td>1.0</td>\n",
       "      <td>976.0</td>\n",
       "      <td>457.0</td>\n",
       "    </tr>\n",
       "    <tr>\n",
       "      <th>2017</th>\n",
       "      <td>2246.0</td>\n",
       "      <td>116.0</td>\n",
       "      <td>276.0</td>\n",
       "      <td>1405.0</td>\n",
       "      <td>1624.0</td>\n",
       "      <td>1958.0</td>\n",
       "      <td>25.0</td>\n",
       "      <td>7224.0</td>\n",
       "      <td>1103.0</td>\n",
       "    </tr>\n",
       "    <tr>\n",
       "      <th>2018</th>\n",
       "      <td>2850.0</td>\n",
       "      <td>990.0</td>\n",
       "      <td>1034.0</td>\n",
       "      <td>1752.0</td>\n",
       "      <td>2345.0</td>\n",
       "      <td>1325.0</td>\n",
       "      <td>508.0</td>\n",
       "      <td>7760.0</td>\n",
       "      <td>1996.0</td>\n",
       "    </tr>\n",
       "    <tr>\n",
       "      <th>2019</th>\n",
       "      <td>4137.0</td>\n",
       "      <td>3825.0</td>\n",
       "      <td>547.0</td>\n",
       "      <td>1883.0</td>\n",
       "      <td>1612.0</td>\n",
       "      <td>838.0</td>\n",
       "      <td>5415.0</td>\n",
       "      <td>4131.0</td>\n",
       "      <td>3079.0</td>\n",
       "    </tr>\n",
       "    <tr>\n",
       "      <th>2020</th>\n",
       "      <td>2657.0</td>\n",
       "      <td>4473.0</td>\n",
       "      <td>824.0</td>\n",
       "      <td>1193.0</td>\n",
       "      <td>1144.0</td>\n",
       "      <td>1012.0</td>\n",
       "      <td>3624.0</td>\n",
       "      <td>5183.0</td>\n",
       "      <td>4056.0</td>\n",
       "    </tr>\n",
       "    <tr>\n",
       "      <th>2021</th>\n",
       "      <td>5329.0</td>\n",
       "      <td>1109.0</td>\n",
       "      <td>469.0</td>\n",
       "      <td>1404.0</td>\n",
       "      <td>803.0</td>\n",
       "      <td>664.0</td>\n",
       "      <td>2961.0</td>\n",
       "      <td>4918.0</td>\n",
       "      <td>3093.0</td>\n",
       "    </tr>\n",
       "    <tr>\n",
       "      <th>2022</th>\n",
       "      <td>4958.0</td>\n",
       "      <td>1955.0</td>\n",
       "      <td>286.0</td>\n",
       "      <td>1095.0</td>\n",
       "      <td>290.0</td>\n",
       "      <td>818.0</td>\n",
       "      <td>2082.0</td>\n",
       "      <td>3795.0</td>\n",
       "      <td>2576.0</td>\n",
       "    </tr>\n",
       "  </tbody>\n",
       "</table>\n",
       "</div>"
      ],
      "text/plain": [
       "       Tomte  bookofjoe   evo_9   ingve  jonbaer  prostoalex  pseudolus  \\\n",
       "Year                                                                      \n",
       "2008     NaN        NaN     NaN     NaN      NaN         NaN        NaN   \n",
       "2009     NaN        NaN     NaN     NaN      NaN         2.0        NaN   \n",
       "2010     NaN        NaN   807.0     NaN      1.0         5.0        NaN   \n",
       "2011     NaN        NaN  1828.0     NaN      1.0       118.0        NaN   \n",
       "2012     1.0        NaN  2096.0    29.0      NaN       241.0        NaN   \n",
       "2013    55.0        NaN   581.0   109.0    962.0       493.0        NaN   \n",
       "2014   330.0        NaN   435.0   281.0    472.0      1011.0        1.0   \n",
       "2015   577.0        NaN   541.0  1323.0   1313.0      1860.0        1.0   \n",
       "2016  1694.0        2.0   535.0  2075.0   3108.0      2110.0        1.0   \n",
       "2017  2246.0      116.0   276.0  1405.0   1624.0      1958.0       25.0   \n",
       "2018  2850.0      990.0  1034.0  1752.0   2345.0      1325.0      508.0   \n",
       "2019  4137.0     3825.0   547.0  1883.0   1612.0       838.0     5415.0   \n",
       "2020  2657.0     4473.0   824.0  1193.0   1144.0      1012.0     3624.0   \n",
       "2021  5329.0     1109.0   469.0  1404.0    803.0       664.0     2961.0   \n",
       "2022  4958.0     1955.0   286.0  1095.0    290.0       818.0     2082.0   \n",
       "\n",
       "      rbanffy    tosh  \n",
       "Year                   \n",
       "2008    230.0     NaN  \n",
       "2009   1304.0     NaN  \n",
       "2010   2892.0     4.0  \n",
       "2011   2997.0    61.0  \n",
       "2012   1723.0    45.0  \n",
       "2013    968.0   203.0  \n",
       "2014   1020.0   415.0  \n",
       "2015    750.0   430.0  \n",
       "2016    976.0   457.0  \n",
       "2017   7224.0  1103.0  \n",
       "2018   7760.0  1996.0  \n",
       "2019   4131.0  3079.0  \n",
       "2020   5183.0  4056.0  \n",
       "2021   4918.0  3093.0  \n",
       "2022   3795.0  2576.0  "
      ]
     },
     "execution_count": 14,
     "metadata": {},
     "output_type": "execute_result"
    }
   ],
   "source": [
    "wide_dat = pd.pivot_table(Stories_per_year, index='Year', \n",
    "                          columns='Author', values='Num_stories')\n",
    "# Remove column name\n",
    "wide_dat.columns = wide_dat.columns.astype('str')\n",
    "wide_dat.columns.name = None\n",
    "wide_dat"
   ]
  },
  {
   "cell_type": "code",
   "execution_count": 15,
   "id": "f6605bec",
   "metadata": {
    "execution": {
     "iopub.execute_input": "2022-12-29T15:18:34.421949Z",
     "iopub.status.busy": "2022-12-29T15:18:34.421512Z",
     "iopub.status.idle": "2022-12-29T15:18:34.888942Z",
     "shell.execute_reply": "2022-12-29T15:18:34.887790Z"
    },
    "papermill": {
     "duration": 0.481076,
     "end_time": "2022-12-29T15:18:34.891561",
     "exception": false,
     "start_time": "2022-12-29T15:18:34.410485",
     "status": "completed"
    },
    "tags": []
   },
   "outputs": [
    {
     "data": {
      "text/plain": [
       "<AxesSubplot:title={'center':'Trend of Stories from Top Authors'}, xlabel='Year'>"
      ]
     },
     "execution_count": 15,
     "metadata": {},
     "output_type": "execute_result"
    },
    {
     "data": {
      "image/png": "[encoded data removed]",
      "text/plain": [
       "<Figure size 720x432 with 1 Axes>"
      ]
     },
     "metadata": {
      "needs_background": "light"
     },
     "output_type": "display_data"
    }
   ],
   "source": [
    "# Lets plot the results\n",
    "plt.figure(figsize=(10,6))\n",
    "plt.title(\"Trend of Stories from Top Authors\")\n",
    "sns.lineplot(data=wide_dat)"
   ]
  },
  {
   "cell_type": "markdown",
   "id": "848fb255",
   "metadata": {
    "papermill": {
     "duration": 0.010633,
     "end_time": "2022-12-29T15:18:34.913959",
     "exception": false,
     "start_time": "2022-12-29T15:18:34.903326",
     "status": "completed"
    },
    "tags": []
   },
   "source": [
    "# 6. Authors with highest average score"
   ]
  },
  {
   "cell_type": "code",
   "execution_count": 16,
   "id": "af0619e4",
   "metadata": {
    "execution": {
     "iopub.execute_input": "2022-12-29T15:18:34.938405Z",
     "iopub.status.busy": "2022-12-29T15:18:34.937415Z",
     "iopub.status.idle": "2022-12-29T15:18:36.282606Z",
     "shell.execute_reply": "2022-12-29T15:18:36.281620Z"
    },
    "papermill": {
     "duration": 1.360124,
     "end_time": "2022-12-29T15:18:36.285027",
     "exception": false,
     "start_time": "2022-12-29T15:18:34.924903",
     "status": "completed"
    },
    "tags": []
   },
   "outputs": [
    {
     "name": "stderr",
     "output_type": "stream",
     "text": [
      "/opt/conda/lib/python3.7/site-packages/google/cloud/bigquery/client.py:440: UserWarning: Cannot create BigQuery Storage client, the dependency google-cloud-bigquery-storage is not installed.\n",
      "  \"Cannot create BigQuery Storage client, the dependency \"\n"
     ]
    },
    {
     "data": {
      "text/html": [
       "<div>\n",
       "<style scoped>\n",
       "    .dataframe tbody tr th:only-of-type {\n",
       "        vertical-align: middle;\n",
       "    }\n",
       "\n",
       "    .dataframe tbody tr th {\n",
       "        vertical-align: top;\n",
       "    }\n",
       "\n",
       "    .dataframe thead th {\n",
       "        text-align: right;\n",
       "    }\n",
       "</style>\n",
       "<table border=\"1\" class=\"dataframe\">\n",
       "  <thead>\n",
       "    <tr style=\"text-align: right;\">\n",
       "      <th></th>\n",
       "      <th>Author</th>\n",
       "      <th>Avg_Score</th>\n",
       "    </tr>\n",
       "  </thead>\n",
       "  <tbody>\n",
       "    <tr>\n",
       "      <th>0</th>\n",
       "      <td>phantop</td>\n",
       "      <td>4240.0</td>\n",
       "    </tr>\n",
       "    <tr>\n",
       "      <th>1</th>\n",
       "      <td>fusl</td>\n",
       "      <td>2636.0</td>\n",
       "    </tr>\n",
       "    <tr>\n",
       "      <th>2</th>\n",
       "      <td>genedangelo</td>\n",
       "      <td>2634.0</td>\n",
       "    </tr>\n",
       "    <tr>\n",
       "      <th>3</th>\n",
       "      <td>megadeth</td>\n",
       "      <td>2595.0</td>\n",
       "    </tr>\n",
       "    <tr>\n",
       "      <th>4</th>\n",
       "      <td>fejkp</td>\n",
       "      <td>2585.0</td>\n",
       "    </tr>\n",
       "    <tr>\n",
       "      <th>5</th>\n",
       "      <td>rcoveson</td>\n",
       "      <td>2105.0</td>\n",
       "    </tr>\n",
       "    <tr>\n",
       "      <th>6</th>\n",
       "      <td>ews</td>\n",
       "      <td>2091.0</td>\n",
       "    </tr>\n",
       "    <tr>\n",
       "      <th>7</th>\n",
       "      <td>totablebanjo</td>\n",
       "      <td>2051.0</td>\n",
       "    </tr>\n",
       "    <tr>\n",
       "      <th>8</th>\n",
       "      <td>benhurmarcel</td>\n",
       "      <td>2023.0</td>\n",
       "    </tr>\n",
       "    <tr>\n",
       "      <th>9</th>\n",
       "      <td>lmueongoqx</td>\n",
       "      <td>2022.0</td>\n",
       "    </tr>\n",
       "  </tbody>\n",
       "</table>\n",
       "</div>"
      ],
      "text/plain": [
       "         Author  Avg_Score\n",
       "0       phantop     4240.0\n",
       "1          fusl     2636.0\n",
       "2   genedangelo     2634.0\n",
       "3      megadeth     2595.0\n",
       "4         fejkp     2585.0\n",
       "5      rcoveson     2105.0\n",
       "6           ews     2091.0\n",
       "7  totablebanjo     2051.0\n",
       "8  benhurmarcel     2023.0\n",
       "9    lmueongoqx     2022.0"
      ]
     },
     "execution_count": 16,
     "metadata": {},
     "output_type": "execute_result"
    }
   ],
   "source": [
    "# Authors with highest average score\n",
    "query6 = \"\"\"SELECT `by` AS Author, AVG (score) as Avg_Score\n",
    "        FROM `bigquery-public-data.hacker_news.full` \n",
    "        WHERE type = 'story'\n",
    "        GROUP BY Author\n",
    "        ORDER BY Avg_score DESC\n",
    "        LIMIT 10\n",
    "\"\"\"\n",
    "# Set up the query\n",
    "query_job = client.query(query6)\n",
    "\n",
    "# API request - run the query, and return a pandas DataFrame\n",
    "Avg_score = query_job.to_dataframe()\n",
    "Avg_score"
   ]
  },
  {
   "cell_type": "code",
   "execution_count": 17,
   "id": "96ad0e5b",
   "metadata": {
    "execution": {
     "iopub.execute_input": "2022-12-29T15:18:36.308993Z",
     "iopub.status.busy": "2022-12-29T15:18:36.308570Z",
     "iopub.status.idle": "2022-12-29T15:18:36.606770Z",
     "shell.execute_reply": "2022-12-29T15:18:36.605750Z"
    },
    "papermill": {
     "duration": 0.312864,
     "end_time": "2022-12-29T15:18:36.609129",
     "exception": false,
     "start_time": "2022-12-29T15:18:36.296265",
     "status": "completed"
    },
    "tags": []
   },
   "outputs": [
    {
     "data": {
      "text/plain": [
       "Text(0, 0.5, 'Average Score')"
      ]
     },
     "execution_count": 17,
     "metadata": {},
     "output_type": "execute_result"
    },
    {
     "data": {
      "image/png": "[encoded data removed]",
      "text/plain": [
       "<Figure size 1008x360 with 1 Axes>"
      ]
     },
     "metadata": {
      "needs_background": "light"
     },
     "output_type": "display_data"
    }
   ],
   "source": [
    "# Lets plot it\n",
    "plt.figure(figsize=(14,5))\n",
    "plt.title('Authors With Highest Average Score')\n",
    "sns.barplot(x = Avg_score.Author, y=Avg_score.Avg_Score)\n",
    "plt.xlabel(\"Authors\")\n",
    "plt.ylabel(\"Average Score\")"
   ]
  },
  {
   "cell_type": "markdown",
   "id": "a2282e00",
   "metadata": {
    "papermill": {
     "duration": 0.011222,
     "end_time": "2022-12-29T15:18:36.632050",
     "exception": false,
     "start_time": "2022-12-29T15:18:36.620828",
     "status": "completed"
    },
    "tags": []
   },
   "source": [
    "# 7. Which date records the most number of stories"
   ]
  },
  {
   "cell_type": "code",
   "execution_count": 18,
   "id": "43647fa2",
   "metadata": {
    "execution": {
     "iopub.execute_input": "2022-12-29T15:18:36.657689Z",
     "iopub.status.busy": "2022-12-29T15:18:36.656411Z",
     "iopub.status.idle": "2022-12-29T15:18:37.977067Z",
     "shell.execute_reply": "2022-12-29T15:18:37.975896Z"
    },
    "papermill": {
     "duration": 1.336144,
     "end_time": "2022-12-29T15:18:37.979628",
     "exception": false,
     "start_time": "2022-12-29T15:18:36.643484",
     "status": "completed"
    },
    "tags": []
   },
   "outputs": [
    {
     "name": "stderr",
     "output_type": "stream",
     "text": [
      "/opt/conda/lib/python3.7/site-packages/google/cloud/bigquery/client.py:440: UserWarning: Cannot create BigQuery Storage client, the dependency google-cloud-bigquery-storage is not installed.\n",
      "  \"Cannot create BigQuery Storage client, the dependency \"\n"
     ]
    },
    {
     "data": {
      "text/html": [
       "<div>\n",
       "<style scoped>\n",
       "    .dataframe tbody tr th:only-of-type {\n",
       "        vertical-align: middle;\n",
       "    }\n",
       "\n",
       "    .dataframe tbody tr th {\n",
       "        vertical-align: top;\n",
       "    }\n",
       "\n",
       "    .dataframe thead th {\n",
       "        text-align: right;\n",
       "    }\n",
       "</style>\n",
       "<table border=\"1\" class=\"dataframe\">\n",
       "  <thead>\n",
       "    <tr style=\"text-align: right;\">\n",
       "      <th></th>\n",
       "      <th>Date</th>\n",
       "      <th>Num_stories</th>\n",
       "    </tr>\n",
       "  </thead>\n",
       "  <tbody>\n",
       "    <tr>\n",
       "      <th>0</th>\n",
       "      <td>2020-05-19</td>\n",
       "      <td>1648</td>\n",
       "    </tr>\n",
       "    <tr>\n",
       "      <th>1</th>\n",
       "      <td>2020-05-28</td>\n",
       "      <td>1573</td>\n",
       "    </tr>\n",
       "    <tr>\n",
       "      <th>2</th>\n",
       "      <td>2020-05-20</td>\n",
       "      <td>1548</td>\n",
       "    </tr>\n",
       "    <tr>\n",
       "      <th>3</th>\n",
       "      <td>2020-05-26</td>\n",
       "      <td>1543</td>\n",
       "    </tr>\n",
       "    <tr>\n",
       "      <th>4</th>\n",
       "      <td>2020-03-31</td>\n",
       "      <td>1535</td>\n",
       "    </tr>\n",
       "  </tbody>\n",
       "</table>\n",
       "</div>"
      ],
      "text/plain": [
       "         Date  Num_stories\n",
       "0  2020-05-19         1648\n",
       "1  2020-05-28         1573\n",
       "2  2020-05-20         1548\n",
       "3  2020-05-26         1543\n",
       "4  2020-03-31         1535"
      ]
     },
     "execution_count": 18,
     "metadata": {},
     "output_type": "execute_result"
    }
   ],
   "source": [
    "# Which date records the highest number of stories?\n",
    "query7 = \"\"\"\n",
    "SELECT EXTRACT(DATE FROM `timestamp`) AS `Date`, COUNT(*) AS Num_stories\n",
    "FROM `bigquery-public-data.hacker_news.full` \n",
    "WHERE type = 'story' AND `timestamp` IS NOT NULL\n",
    "GROUP BY 1\n",
    "ORDER BY Num_stories DESC\n",
    "LIMIT 5\n",
    "\"\"\"\n",
    "# Set up the query\n",
    "query_job = client.query(query7)\n",
    "\n",
    "# API request - run the query, and return a pandas DataFrame\n",
    "Most_stories_on = query_job.to_dataframe()\n",
    "Most_stories_on"
   ]
  },
  {
   "cell_type": "markdown",
   "id": "8b164110",
   "metadata": {
    "papermill": {
     "duration": 0.012088,
     "end_time": "2022-12-29T15:18:38.003437",
     "exception": false,
     "start_time": "2022-12-29T15:18:37.991349",
     "status": "completed"
    },
    "tags": []
   },
   "source": [
    "# Stories with most number of comments on 12 Dec 2012"
   ]
  },
  {
   "cell_type": "code",
   "execution_count": 19,
   "id": "a8a930f7",
   "metadata": {
    "execution": {
     "iopub.execute_input": "2022-12-29T15:18:38.029435Z",
     "iopub.status.busy": "2022-12-29T15:18:38.028803Z",
     "iopub.status.idle": "2022-12-29T15:18:39.309606Z",
     "shell.execute_reply": "2022-12-29T15:18:39.308769Z"
    },
    "papermill": {
     "duration": 1.29641,
     "end_time": "2022-12-29T15:18:39.311930",
     "exception": false,
     "start_time": "2022-12-29T15:18:38.015520",
     "status": "completed"
    },
    "tags": []
   },
   "outputs": [
    {
     "name": "stderr",
     "output_type": "stream",
     "text": [
      "/opt/conda/lib/python3.7/site-packages/google/cloud/bigquery/client.py:440: UserWarning: Cannot create BigQuery Storage client, the dependency google-cloud-bigquery-storage is not installed.\n",
      "  \"Cannot create BigQuery Storage client, the dependency \"\n"
     ]
    },
    {
     "data": {
      "text/html": [
       "<div>\n",
       "<style scoped>\n",
       "    .dataframe tbody tr th:only-of-type {\n",
       "        vertical-align: middle;\n",
       "    }\n",
       "\n",
       "    .dataframe tbody tr th {\n",
       "        vertical-align: top;\n",
       "    }\n",
       "\n",
       "    .dataframe thead th {\n",
       "        text-align: right;\n",
       "    }\n",
       "</style>\n",
       "<table border=\"1\" class=\"dataframe\">\n",
       "  <thead>\n",
       "    <tr style=\"text-align: right;\">\n",
       "      <th></th>\n",
       "      <th>Num_stories</th>\n",
       "    </tr>\n",
       "  </thead>\n",
       "  <tbody>\n",
       "    <tr>\n",
       "      <th>0</th>\n",
       "      <td>1032</td>\n",
       "    </tr>\n",
       "  </tbody>\n",
       "</table>\n",
       "</div>"
      ],
      "text/plain": [
       "   Num_stories\n",
       "0         1032"
      ]
     },
     "execution_count": 19,
     "metadata": {},
     "output_type": "execute_result"
    }
   ],
   "source": [
    "# Number of stories written on 12 Dec 2012\n",
    "query8 = \"\"\"\n",
    "SELECT COUNT(*) AS Num_stories\n",
    "FROM `bigquery-public-data.hacker_news.full` \n",
    "WHERE type = 'story' AND EXTRACT(DATE FROM `timestamp`) = '2012-12-12'\n",
    "\"\"\"\n",
    "# Set up the query\n",
    "query_job = client.query(query8)\n",
    "\n",
    "# API request - run the query, and return a pandas DataFrame\n",
    "Dec_12 = query_job.to_dataframe()\n",
    "Dec_12"
   ]
  },
  {
   "cell_type": "code",
   "execution_count": 20,
   "id": "b99bd838",
   "metadata": {
    "execution": {
     "iopub.execute_input": "2022-12-29T15:18:39.339987Z",
     "iopub.status.busy": "2022-12-29T15:18:39.339403Z",
     "iopub.status.idle": "2022-12-29T15:18:40.779587Z",
     "shell.execute_reply": "2022-12-29T15:18:40.778423Z"
    },
    "papermill": {
     "duration": 1.457894,
     "end_time": "2022-12-29T15:18:40.782092",
     "exception": false,
     "start_time": "2022-12-29T15:18:39.324198",
     "status": "completed"
    },
    "tags": []
   },
   "outputs": [
    {
     "name": "stderr",
     "output_type": "stream",
     "text": [
      "/opt/conda/lib/python3.7/site-packages/google/cloud/bigquery/client.py:440: UserWarning: Cannot create BigQuery Storage client, the dependency google-cloud-bigquery-storage is not installed.\n",
      "  \"Cannot create BigQuery Storage client, the dependency \"\n"
     ]
    },
    {
     "data": {
      "text/html": [
       "<div>\n",
       "<style scoped>\n",
       "    .dataframe tbody tr th:only-of-type {\n",
       "        vertical-align: middle;\n",
       "    }\n",
       "\n",
       "    .dataframe tbody tr th {\n",
       "        vertical-align: top;\n",
       "    }\n",
       "\n",
       "    .dataframe thead th {\n",
       "        text-align: right;\n",
       "    }\n",
       "</style>\n",
       "<table border=\"1\" class=\"dataframe\">\n",
       "  <thead>\n",
       "    <tr style=\"text-align: right;\">\n",
       "      <th></th>\n",
       "      <th>story_id</th>\n",
       "      <th>by</th>\n",
       "      <th>title</th>\n",
       "      <th>num_comments</th>\n",
       "    </tr>\n",
       "  </thead>\n",
       "  <tbody>\n",
       "    <tr>\n",
       "      <th>0</th>\n",
       "      <td>4910022</td>\n",
       "      <td>eipi</td>\n",
       "      <td>Ask HN: How do you manage your one-man project?</td>\n",
       "      <td>52</td>\n",
       "    </tr>\n",
       "    <tr>\n",
       "      <th>1</th>\n",
       "      <td>4912712</td>\n",
       "      <td>barredo</td>\n",
       "      <td>Kickstarter backers ready class action lawsuit...</td>\n",
       "      <td>43</td>\n",
       "    </tr>\n",
       "    <tr>\n",
       "      <th>2</th>\n",
       "      <td>4912872</td>\n",
       "      <td>Swizec</td>\n",
       "      <td>Why founders shouldn't be the developers</td>\n",
       "      <td>38</td>\n",
       "    </tr>\n",
       "    <tr>\n",
       "      <th>3</th>\n",
       "      <td>4909784</td>\n",
       "      <td>nathanbarry</td>\n",
       "      <td>Show HN: Designing Web Applications</td>\n",
       "      <td>37</td>\n",
       "    </tr>\n",
       "    <tr>\n",
       "      <th>4</th>\n",
       "      <td>4910313</td>\n",
       "      <td>sethbannon</td>\n",
       "      <td>Google Zeitgeist 2012</td>\n",
       "      <td>32</td>\n",
       "    </tr>\n",
       "    <tr>\n",
       "      <th>5</th>\n",
       "      <td>4910212</td>\n",
       "      <td>jwhelton</td>\n",
       "      <td>If you’re trying to hack/deface a website, don...</td>\n",
       "      <td>31</td>\n",
       "    </tr>\n",
       "    <tr>\n",
       "      <th>6</th>\n",
       "      <td>4910406</td>\n",
       "      <td>agconway</td>\n",
       "      <td>Prof. calls out student for cheating via Math ...</td>\n",
       "      <td>30</td>\n",
       "    </tr>\n",
       "    <tr>\n",
       "      <th>7</th>\n",
       "      <td>4912964</td>\n",
       "      <td>liamk</td>\n",
       "      <td>Mona Lisa in 50 polygons, using a genetic algo...</td>\n",
       "      <td>26</td>\n",
       "    </tr>\n",
       "    <tr>\n",
       "      <th>8</th>\n",
       "      <td>4910814</td>\n",
       "      <td>adsahay</td>\n",
       "      <td>diary.io - should we build this?</td>\n",
       "      <td>26</td>\n",
       "    </tr>\n",
       "    <tr>\n",
       "      <th>9</th>\n",
       "      <td>4907830</td>\n",
       "      <td>aidanskinner</td>\n",
       "      <td>Goodbye, Uploads</td>\n",
       "      <td>24</td>\n",
       "    </tr>\n",
       "  </tbody>\n",
       "</table>\n",
       "</div>"
      ],
      "text/plain": [
       "   story_id            by                                              title  \\\n",
       "0   4910022          eipi    Ask HN: How do you manage your one-man project?   \n",
       "1   4912712       barredo  Kickstarter backers ready class action lawsuit...   \n",
       "2   4912872        Swizec           Why founders shouldn't be the developers   \n",
       "3   4909784   nathanbarry                Show HN: Designing Web Applications   \n",
       "4   4910313    sethbannon                              Google Zeitgeist 2012   \n",
       "5   4910212      jwhelton  If you’re trying to hack/deface a website, don...   \n",
       "6   4910406      agconway  Prof. calls out student for cheating via Math ...   \n",
       "7   4912964         liamk  Mona Lisa in 50 polygons, using a genetic algo...   \n",
       "8   4910814       adsahay                   diary.io - should we build this?   \n",
       "9   4907830  aidanskinner                                   Goodbye, Uploads   \n",
       "\n",
       "   num_comments  \n",
       "0            52  \n",
       "1            43  \n",
       "2            38  \n",
       "3            37  \n",
       "4            32  \n",
       "5            31  \n",
       "6            30  \n",
       "7            26  \n",
       "8            26  \n",
       "9            24  "
      ]
     },
     "execution_count": 20,
     "metadata": {},
     "output_type": "execute_result"
    }
   ],
   "source": [
    "# Ten stories with most number of comments on 12 Dec 2012\n",
    "query9 = \"\"\"\n",
    "             WITH c AS\n",
    "            (\n",
    "            SELECT parent, COUNT(*) as num_comments\n",
    "            FROM `bigquery-public-data.hacker_news.comments` \n",
    "            GROUP BY parent\n",
    "            )\n",
    "            SELECT s.id as story_id, s.by, s.title, c.num_comments\n",
    "            FROM `bigquery-public-data.hacker_news.stories` AS s\n",
    "            LEFT JOIN c\n",
    "            ON s.id = c.parent\n",
    "            WHERE EXTRACT(DATE FROM s.time_ts) = '2012-12-12'\n",
    "            ORDER BY c.num_comments DESC\n",
    "            LIMIT 10\n",
    "             \"\"\"\n",
    "# Set up the query\n",
    "query_job = client.query(query9)\n",
    "\n",
    "# API request - run the query, and return a pandas DataFrame\n",
    "Stories_with_most_comments = query_job.to_dataframe()\n",
    "Stories_with_most_comments"
   ]
  }
 ],
 "metadata": {
  "kernelspec": {
   "display_name": "Python 3",
   "language": "python",
   "name": "python3"
  },
  "language_info": {
   "codemirror_mode": {
    "name": "ipython",
    "version": 3
   },
   "file_extension": ".py",
   "mimetype": "text/x-python",
   "name": "python",
   "nbconvert_exporter": "python",
   "pygments_lexer": "ipython3",
   "version": "3.7.12"
  },
  "papermill": {
   "default_parameters": {},
   "duration": 27.084535,
   "end_time": "2022-12-29T15:18:41.518015",
   "environment_variables": {},
   "exception": null,
   "input_path": "__notebook__.ipynb",
   "output_path": "__notebook__.ipynb",
   "parameters": {},
   "start_time": "2022-12-29T15:18:14.433480",
   "version": "2.3.4"
  }
 },
 "nbformat": 4,
 "nbformat_minor": 5
}
